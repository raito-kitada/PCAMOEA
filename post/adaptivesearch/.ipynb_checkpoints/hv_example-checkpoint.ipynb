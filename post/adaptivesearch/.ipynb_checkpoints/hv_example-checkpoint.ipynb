{
 "cells": [
  {
   "cell_type": "code",
   "execution_count": 77,
   "metadata": {},
   "outputs": [],
   "source": [
    "import pandas as pd\n",
    "import numpy as np\n",
    "import matplotlib.pyplot as plt\n",
    "from paretoset import paretoset\n",
    "import pygmo as pg\n",
    "\n",
    "# import pymoo as po\n",
    "from pymoo.factory import *"
   ]
  },
  {
   "cell_type": "markdown",
   "metadata": {},
   "source": [
    "## Global Parameters\n",
    "Check these parameters before executing.  \n",
    "These parameters must be modified to fit the computational conditions."
   ]
  },
  {
   "cell_type": "code",
   "execution_count": 13,
   "metadata": {},
   "outputs": [],
   "source": [
    "npop = 100\n",
    "ngen = 100\n",
    "\n",
    "nobj = 3\n",
    "ncon = 0\n",
    "nvar = 38\n",
    "\n",
    "ndigits = [16] # [2,4,6,8,16]\n",
    "ntrial = 10"
   ]
  },
  {
   "cell_type": "code",
   "execution_count": 14,
   "metadata": {},
   "outputs": [],
   "source": [
    "base_path = '../../output/adaptivesearch/cpsd/'"
   ]
  },
  {
   "cell_type": "code",
   "execution_count": 15,
   "metadata": {},
   "outputs": [],
   "source": [
    "algorithmName = ['NSGAII']\n",
    "problemName = ['DTLZ3']"
   ]
  },
  {
   "cell_type": "markdown",
   "metadata": {},
   "source": [
    "#### auto-generated parameters"
   ]
  },
  {
   "cell_type": "code",
   "execution_count": 16,
   "metadata": {},
   "outputs": [],
   "source": [
    "colnames=['gen']\n",
    "colnames.extend(['obj'+str(i) for i in range(nobj)])\n",
    "colnames.extend(['con'+str(i) for i in range(ncon)])\n",
    "colnames.extend(['var'+str(i) for i in range(nvar)])"
   ]
  },
  {
   "cell_type": "code",
   "execution_count": 17,
   "metadata": {},
   "outputs": [],
   "source": [
    "# Generate mesh\n",
    "angle = np.linspace(0, 0.5 * np.pi, 16)\n",
    "theta, phi = np.meshgrid(angle, angle)\n",
    "r = 1\n",
    "X = r * np.cos(phi) * np.cos(theta)\n",
    "Y = r * np.cos(phi) * np.sin(theta)\n",
    "Z = r * np.sin(phi)"
   ]
  },
  {
   "cell_type": "markdown",
   "metadata": {},
   "source": [
    "### Function Definitions"
   ]
  },
  {
   "cell_type": "markdown",
   "metadata": {},
   "source": [
    "#### Utility functions"
   ]
  },
  {
   "cell_type": "code",
   "execution_count": 18,
   "metadata": {},
   "outputs": [],
   "source": [
    "def makeFileName(header, algorithm, problem, trial, extention):\n",
    "    if header == '':\n",
    "        return '_'.join([algorithm, problem, str(trial)]) + '.' + extention\n",
    "    else:\n",
    "        return '_'.join([header, algorithm, problem, str(trial)]) + '.' + extention"
   ]
  },
  {
   "cell_type": "code",
   "execution_count": 19,
   "metadata": {},
   "outputs": [],
   "source": [
    "def readData(aName, pName, digit, trial):\n",
    "    fname = '/'.join(\n",
    "        [base_path, pName, str(digit), makeFileName('history', aName, pName, str(trial), 'txt')]\n",
    "    )\n",
    "    df = pd.read_csv(fname, delimiter=' ', header=None, names=colnames)\n",
    "    return df"
   ]
  },
  {
   "cell_type": "code",
   "execution_count": 20,
   "metadata": {},
   "outputs": [],
   "source": [
    "def extractGen(df):\n",
    "    return df.gen"
   ]
  },
  {
   "cell_type": "code",
   "execution_count": 21,
   "metadata": {},
   "outputs": [],
   "source": [
    "def extractObjs(df, n):\n",
    "    cName = ['obj'+str(i) for i in range(n)]\n",
    "    return df.loc[:, cName]"
   ]
  },
  {
   "cell_type": "code",
   "execution_count": 22,
   "metadata": {
    "scrolled": false
   },
   "outputs": [],
   "source": [
    "def extractVars(df, n):\n",
    "    cName = ['var'+str(i) for i in range(n)]\n",
    "    return df.loc[:, cName]"
   ]
  },
  {
   "cell_type": "code",
   "execution_count": 23,
   "metadata": {},
   "outputs": [],
   "source": [
    "def extractCons(df, n):\n",
    "    cName = ['con'+str(i) for i in range(n)]\n",
    "    return df.loc[:, cName]"
   ]
  },
  {
   "cell_type": "markdown",
   "metadata": {},
   "source": [
    "### Main"
   ]
  },
  {
   "cell_type": "code",
   "execution_count": 28,
   "metadata": {},
   "outputs": [],
   "source": [
    "df = readData('NSGAII', 'DTLZ3', 16, 0)"
   ]
  },
  {
   "cell_type": "code",
   "execution_count": 29,
   "metadata": {},
   "outputs": [],
   "source": [
    "gen = extractGen(df)"
   ]
  },
  {
   "cell_type": "code",
   "execution_count": 30,
   "metadata": {},
   "outputs": [],
   "source": [
    "objs = extractObjs(df, nobj)"
   ]
  },
  {
   "cell_type": "code",
   "execution_count": 31,
   "metadata": {},
   "outputs": [],
   "source": [
    "g = 100"
   ]
  },
  {
   "cell_type": "code",
   "execution_count": 32,
   "metadata": {},
   "outputs": [],
   "source": [
    "mask = paretoset(objs[gen<=g], sense=['min'] * nobj)"
   ]
  },
  {
   "cell_type": "code",
   "execution_count": 33,
   "metadata": {},
   "outputs": [],
   "source": [
    "nd_sol = objs[gen<=g][mask]\n",
    "d_sol = objs[gen<=g][mask != True]"
   ]
  },
  {
   "cell_type": "code",
   "execution_count": 34,
   "metadata": {},
   "outputs": [],
   "source": [
    "x = d_sol.iloc[:,0]\n",
    "y = d_sol.iloc[:,1]\n",
    "z = d_sol.iloc[:,2]"
   ]
  },
  {
   "cell_type": "code",
   "execution_count": 35,
   "metadata": {},
   "outputs": [],
   "source": [
    "px = nd_sol.iloc[:,0]\n",
    "py = nd_sol.iloc[:,1]\n",
    "pz = nd_sol.iloc[:,2]"
   ]
  },
  {
   "cell_type": "code",
   "execution_count": 78,
   "metadata": {},
   "outputs": [],
   "source": [
    "ref_point = np.array([1800,1800,1800])"
   ]
  },
  {
   "cell_type": "code",
   "execution_count": 84,
   "metadata": {},
   "outputs": [],
   "source": [
    "# pygmo version\n",
    "hv = pg.hypervolume(nd_sol.values.tolist())\n",
    "ret1 = hv.compute(ref_point=ref_point)"
   ]
  },
  {
   "cell_type": "code",
   "execution_count": 85,
   "metadata": {},
   "outputs": [],
   "source": [
    "# pymoo version\n",
    "hv = get_performance_indicator(\"hv\", ref_point=ref_point)\n",
    "ret2 = hv.calc(nd_sol.values)"
   ]
  },
  {
   "cell_type": "code",
   "execution_count": 87,
   "metadata": {},
   "outputs": [
    {
     "name": "stdout",
     "output_type": "stream",
     "text": [
      "pygmo version : 5765477142.476285, pymoo version : 5765477142.476281 , diff = 3.814697265625e-06\n"
     ]
    }
   ],
   "source": [
    "print(f'pygmo version : {ret1}, pymoo version : {ret2} , diff = {ret1 - ret2}')"
   ]
  }
 ],
 "metadata": {
  "kernelspec": {
   "display_name": "Python 3",
   "language": "python",
   "name": "python3"
  },
  "language_info": {
   "codemirror_mode": {
    "name": "ipython",
    "version": 3
   },
   "file_extension": ".py",
   "mimetype": "text/x-python",
   "name": "python",
   "nbconvert_exporter": "python",
   "pygments_lexer": "ipython3",
   "version": "3.8.5"
  }
 },
 "nbformat": 4,
 "nbformat_minor": 4
}
