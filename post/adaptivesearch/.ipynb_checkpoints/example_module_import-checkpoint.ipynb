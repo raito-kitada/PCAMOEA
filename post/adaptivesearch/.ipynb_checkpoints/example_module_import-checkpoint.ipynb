{
 "cells": [
  {
   "cell_type": "code",
   "execution_count": 1,
   "id": "injured-burst",
   "metadata": {},
   "outputs": [],
   "source": [
    "import sys"
   ]
  },
  {
   "cell_type": "code",
   "execution_count": 4,
   "id": "beginning-sessions",
   "metadata": {},
   "outputs": [
    {
     "name": "stdout",
     "output_type": "stream",
     "text": [
      "/rst4_data/workspace6/tatsukawa/Repos/MOEAFramework/post/adaptivesearch\n",
      "/home/tatsukawa/Work/anaconda3/envs/py38/lib/python38.zip\n",
      "/home/tatsukawa/Work/anaconda3/envs/py38/lib/python3.8\n",
      "/home/tatsukawa/Work/anaconda3/envs/py38/lib/python3.8/lib-dynload\n",
      "\n",
      "/home/tatsukawa/Work/anaconda3/envs/py38/lib/python3.8/site-packages\n",
      "/home/tatsukawa/Work/anaconda3/envs/py38/lib/python3.8/site-packages/IPython/extensions\n",
      "/home/tatsukawa/.ipython\n"
     ]
    }
   ],
   "source": [
    "# print current module path\n",
    "for p in sys.path:\n",
    "    print(p)"
   ]
  },
  {
   "cell_type": "code",
   "execution_count": 9,
   "id": "apart-realtor",
   "metadata": {},
   "outputs": [],
   "source": [
    "# append module path\n",
    "sys.path.append('/rst4_data/workspace6/tatsukawa/Repos/MOEAFramework/post/py')"
   ]
  },
  {
   "cell_type": "code",
   "execution_count": 10,
   "id": "psychological-parking",
   "metadata": {},
   "outputs": [
    {
     "name": "stdout",
     "output_type": "stream",
     "text": [
      "/rst4_data/workspace6/tatsukawa/Repos/MOEAFramework/post/adaptivesearch\n",
      "/home/tatsukawa/Work/anaconda3/envs/py38/lib/python38.zip\n",
      "/home/tatsukawa/Work/anaconda3/envs/py38/lib/python3.8\n",
      "/home/tatsukawa/Work/anaconda3/envs/py38/lib/python3.8/lib-dynload\n",
      "\n",
      "/home/tatsukawa/Work/anaconda3/envs/py38/lib/python3.8/site-packages\n",
      "/home/tatsukawa/Work/anaconda3/envs/py38/lib/python3.8/site-packages/IPython/extensions\n",
      "/home/tatsukawa/.ipython\n",
      "/rst4_data/workspace6/tatsukawa/Repos/MOEAFramework/py\n",
      "/rst4_data/workspace6/tatsukawa/Repos/MOEAFramework/post/py\n"
     ]
    }
   ],
   "source": [
    "for p in sys.path:\n",
    "    print(p)"
   ]
  },
  {
   "cell_type": "code",
   "execution_count": 11,
   "id": "personal-porcelain",
   "metadata": {},
   "outputs": [],
   "source": [
    "from lab import utils"
   ]
  },
  {
   "cell_type": "code",
   "execution_count": 13,
   "id": "empty-glossary",
   "metadata": {},
   "outputs": [
    {
     "name": "stdout",
     "output_type": "stream",
     "text": [
      "hellohello\n"
     ]
    }
   ],
   "source": [
    "print(utils.hello('hello'))"
   ]
  },
  {
   "cell_type": "code",
   "execution_count": null,
   "id": "controlled-prospect",
   "metadata": {},
   "outputs": [],
   "source": []
  }
 ],
 "metadata": {
  "kernelspec": {
   "display_name": "Python 3",
   "language": "python",
   "name": "python3"
  },
  "language_info": {
   "codemirror_mode": {
    "name": "ipython",
    "version": 3
   },
   "file_extension": ".py",
   "mimetype": "text/x-python",
   "name": "python",
   "nbconvert_exporter": "python",
   "pygments_lexer": "ipython3",
   "version": "3.8.5"
  }
 },
 "nbformat": 4,
 "nbformat_minor": 5
}
