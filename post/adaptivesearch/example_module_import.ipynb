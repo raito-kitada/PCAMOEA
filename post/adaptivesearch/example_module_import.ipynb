{
 "cells": [
  {
   "cell_type": "code",
   "execution_count": 1,
   "id": "applicable-applicant",
   "metadata": {},
   "outputs": [],
   "source": [
    "import sys"
   ]
  },
  {
   "cell_type": "code",
   "execution_count": 4,
   "id": "breeding-salvation",
   "metadata": {},
   "outputs": [
    {
     "name": "stdout",
     "output_type": "stream",
     "text": [
      "/rst4_data/workspace6/tatsukawa/Repos/MOEAFramework/post/adaptivesearch\n",
      "/home/tatsukawa/Work/anaconda3/envs/py38/lib/python38.zip\n",
      "/home/tatsukawa/Work/anaconda3/envs/py38/lib/python3.8\n",
      "/home/tatsukawa/Work/anaconda3/envs/py38/lib/python3.8/lib-dynload\n",
      "\n",
      "/home/tatsukawa/Work/anaconda3/envs/py38/lib/python3.8/site-packages\n",
      "/home/tatsukawa/Work/anaconda3/envs/py38/lib/python3.8/site-packages/IPython/extensions\n",
      "/home/tatsukawa/.ipython\n"
     ]
    }
   ],
   "source": [
    "# print current module path\n",
    "for p in sys.path:\n",
    "    print(p)"
   ]
  },
  {
   "cell_type": "code",
   "execution_count": 9,
   "id": "exceptional-harmony",
   "metadata": {},
   "outputs": [],
   "source": [
    "# append module path\n",
    "sys.path.append('/rst4_data/workspace6/tatsukawa/Repos/MOEAFramework/post/py')"
   ]
  },
  {
   "cell_type": "code",
   "execution_count": 10,
   "id": "earned-appreciation",
   "metadata": {},
   "outputs": [
    {
     "name": "stdout",
     "output_type": "stream",
     "text": [
      "/rst4_data/workspace6/tatsukawa/Repos/MOEAFramework/post/adaptivesearch\n",
      "/home/tatsukawa/Work/anaconda3/envs/py38/lib/python38.zip\n",
      "/home/tatsukawa/Work/anaconda3/envs/py38/lib/python3.8\n",
      "/home/tatsukawa/Work/anaconda3/envs/py38/lib/python3.8/lib-dynload\n",
      "\n",
      "/home/tatsukawa/Work/anaconda3/envs/py38/lib/python3.8/site-packages\n",
      "/home/tatsukawa/Work/anaconda3/envs/py38/lib/python3.8/site-packages/IPython/extensions\n",
      "/home/tatsukawa/.ipython\n",
      "/rst4_data/workspace6/tatsukawa/Repos/MOEAFramework/py\n",
      "/rst4_data/workspace6/tatsukawa/Repos/MOEAFramework/post/py\n"
     ]
    }
   ],
   "source": [
    "for p in sys.path:\n",
    "    print(p)"
   ]
  },
  {
   "cell_type": "code",
   "execution_count": 21,
   "id": "effective-tomorrow",
   "metadata": {},
   "outputs": [],
   "source": [
    "import lab.util as util"
   ]
  },
  {
   "cell_type": "code",
   "execution_count": 22,
   "id": "furnished-guarantee",
   "metadata": {},
   "outputs": [
    {
     "name": "stdout",
     "output_type": "stream",
     "text": [
      "hellohello\n"
     ]
    }
   ],
   "source": [
    "print(util.hello('hello'))"
   ]
  },
  {
   "cell_type": "code",
   "execution_count": null,
   "id": "native-budget",
   "metadata": {},
   "outputs": [],
   "source": []
  }
 ],
 "metadata": {
  "kernelspec": {
   "display_name": "Python 3",
   "language": "python",
   "name": "python3"
  },
  "language_info": {
   "codemirror_mode": {
    "name": "ipython",
    "version": 3
   },
   "file_extension": ".py",
   "mimetype": "text/x-python",
   "name": "python",
   "nbconvert_exporter": "python",
   "pygments_lexer": "ipython3",
   "version": "3.8.5"
  }
 },
 "nbformat": 4,
 "nbformat_minor": 5
}
