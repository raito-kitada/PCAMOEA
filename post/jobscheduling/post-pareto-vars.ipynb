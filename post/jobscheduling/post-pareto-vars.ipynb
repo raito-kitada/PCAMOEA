{
 "cells": [
  {
   "cell_type": "code",
   "execution_count": 1,
   "metadata": {},
   "outputs": [],
   "source": [
    "import numpy as np\n",
    "import pandas as pd\n",
    "import matplotlib.colors\n",
    "import matplotlib.pyplot as plt"
   ]
  },
  {
   "cell_type": "code",
   "execution_count": 2,
   "metadata": {},
   "outputs": [],
   "source": [
    "data2 = pd.read_csv('pareto_vars.csv')"
   ]
  },
  {
   "cell_type": "code",
   "execution_count": 3,
   "metadata": {},
   "outputs": [
    {
     "data": {
      "text/html": [
       "<div>\n",
       "<style scoped>\n",
       "    .dataframe tbody tr th:only-of-type {\n",
       "        vertical-align: middle;\n",
       "    }\n",
       "\n",
       "    .dataframe tbody tr th {\n",
       "        vertical-align: top;\n",
       "    }\n",
       "\n",
       "    .dataframe thead th {\n",
       "        text-align: right;\n",
       "    }\n",
       "</style>\n",
       "<table border=\"1\" class=\"dataframe\">\n",
       "  <thead>\n",
       "    <tr style=\"text-align: right;\">\n",
       "      <th></th>\n",
       "      <th>job0</th>\n",
       "      <th>job1</th>\n",
       "      <th>job2</th>\n",
       "      <th>job3</th>\n",
       "      <th>job4</th>\n",
       "      <th>job5</th>\n",
       "      <th>job6</th>\n",
       "      <th>job7</th>\n",
       "      <th>job8</th>\n",
       "      <th>job9</th>\n",
       "      <th>...</th>\n",
       "      <th>end_time_35</th>\n",
       "      <th>end_time_36</th>\n",
       "      <th>end_time_37</th>\n",
       "      <th>end_time_38</th>\n",
       "      <th>end_time_39</th>\n",
       "      <th>end_time_40</th>\n",
       "      <th>end_time_41</th>\n",
       "      <th>end_time_42</th>\n",
       "      <th>end_time_43</th>\n",
       "      <th>end_time_44</th>\n",
       "    </tr>\n",
       "  </thead>\n",
       "  <tbody>\n",
       "    <tr>\n",
       "      <th>0</th>\n",
       "      <td>13</td>\n",
       "      <td>12</td>\n",
       "      <td>30</td>\n",
       "      <td>23</td>\n",
       "      <td>14</td>\n",
       "      <td>17</td>\n",
       "      <td>44</td>\n",
       "      <td>20</td>\n",
       "      <td>42</td>\n",
       "      <td>16</td>\n",
       "      <td>...</td>\n",
       "      <td>183.016667</td>\n",
       "      <td>163.016667</td>\n",
       "      <td>160.016667</td>\n",
       "      <td>183.016667</td>\n",
       "      <td>183.016667</td>\n",
       "      <td>164.016667</td>\n",
       "      <td>170.016667</td>\n",
       "      <td>194.016667</td>\n",
       "      <td>194.016667</td>\n",
       "      <td>184.016667</td>\n",
       "    </tr>\n",
       "    <tr>\n",
       "      <th>1</th>\n",
       "      <td>44</td>\n",
       "      <td>20</td>\n",
       "      <td>42</td>\n",
       "      <td>16</td>\n",
       "      <td>29</td>\n",
       "      <td>38</td>\n",
       "      <td>19</td>\n",
       "      <td>26</td>\n",
       "      <td>4</td>\n",
       "      <td>27</td>\n",
       "      <td>...</td>\n",
       "      <td>133.016667</td>\n",
       "      <td>157.016667</td>\n",
       "      <td>134.016667</td>\n",
       "      <td>139.016667</td>\n",
       "      <td>157.016667</td>\n",
       "      <td>135.016667</td>\n",
       "      <td>181.016667</td>\n",
       "      <td>205.016667</td>\n",
       "      <td>205.016667</td>\n",
       "      <td>207.016667</td>\n",
       "    </tr>\n",
       "    <tr>\n",
       "      <th>2</th>\n",
       "      <td>17</td>\n",
       "      <td>44</td>\n",
       "      <td>20</td>\n",
       "      <td>42</td>\n",
       "      <td>16</td>\n",
       "      <td>38</td>\n",
       "      <td>19</td>\n",
       "      <td>26</td>\n",
       "      <td>4</td>\n",
       "      <td>27</td>\n",
       "      <td>...</td>\n",
       "      <td>175.016667</td>\n",
       "      <td>155.016667</td>\n",
       "      <td>152.016667</td>\n",
       "      <td>175.016667</td>\n",
       "      <td>175.016667</td>\n",
       "      <td>156.016667</td>\n",
       "      <td>156.016667</td>\n",
       "      <td>179.016667</td>\n",
       "      <td>180.016667</td>\n",
       "      <td>199.016667</td>\n",
       "    </tr>\n",
       "  </tbody>\n",
       "</table>\n",
       "<p>3 rows × 135 columns</p>\n",
       "</div>"
      ],
      "text/plain": [
       "   job0  job1  job2  job3  job4  job5  job6  job7  job8  job9  ...  \\\n",
       "0    13    12    30    23    14    17    44    20    42    16  ...   \n",
       "1    44    20    42    16    29    38    19    26     4    27  ...   \n",
       "2    17    44    20    42    16    38    19    26     4    27  ...   \n",
       "\n",
       "   end_time_35  end_time_36  end_time_37  end_time_38  end_time_39  \\\n",
       "0   183.016667   163.016667   160.016667   183.016667   183.016667   \n",
       "1   133.016667   157.016667   134.016667   139.016667   157.016667   \n",
       "2   175.016667   155.016667   152.016667   175.016667   175.016667   \n",
       "\n",
       "   end_time_40  end_time_41  end_time_42  end_time_43  end_time_44  \n",
       "0   164.016667   170.016667   194.016667   194.016667   184.016667  \n",
       "1   135.016667   181.016667   205.016667   205.016667   207.016667  \n",
       "2   156.016667   156.016667   179.016667   180.016667   199.016667  \n",
       "\n",
       "[3 rows x 135 columns]"
      ]
     },
     "execution_count": 3,
     "metadata": {},
     "output_type": "execute_result"
    }
   ],
   "source": [
    "data2"
   ]
  },
  {
   "cell_type": "code",
   "execution_count": 38,
   "metadata": {},
   "outputs": [],
   "source": [
    "name = list(data2.iloc[:,0:45].columns)"
   ]
  },
  {
   "cell_type": "code",
   "execution_count": 10,
   "metadata": {},
   "outputs": [
    {
     "ename": "TypeError",
     "evalue": "can only concatenate list (not \"str\") to list",
     "output_type": "error",
     "traceback": [
      "\u001b[0;31m---------------------------------------------------------------------------\u001b[0m",
      "\u001b[0;31mTypeError\u001b[0m                                 Traceback (most recent call last)",
      "\u001b[0;32m<ipython-input-10-29290f8b94f1>\u001b[0m in \u001b[0;36m<module>\u001b[0;34m\u001b[0m\n\u001b[0;32m----> 1\u001b[0;31m \u001b[0mlist\u001b[0m\u001b[0;34m(\u001b[0m\u001b[0mmap\u001b[0m\u001b[0;34m(\u001b[0m\u001b[0mstr\u001b[0m\u001b[0;34m,\u001b[0m\u001b[0mlist\u001b[0m\u001b[0;34m(\u001b[0m\u001b[0mrange\u001b[0m\u001b[0;34m(\u001b[0m\u001b[0;36m10\u001b[0m\u001b[0;34m)\u001b[0m\u001b[0;34m)\u001b[0m\u001b[0;34m)\u001b[0m\u001b[0;34m)\u001b[0m\u001b[0;34m+\u001b[0m\u001b[0;34m'pareto'\u001b[0m\u001b[0;34m\u001b[0m\u001b[0;34m\u001b[0m\u001b[0m\n\u001b[0m",
      "\u001b[0;31mTypeError\u001b[0m: can only concatenate list (not \"str\") to list"
     ]
    }
   ],
   "source": [
    "list(map(str,list(range(10))))"
   ]
  },
  {
   "cell_type": "code",
   "execution_count": 36,
   "metadata": {},
   "outputs": [
    {
     "data": {
      "text/html": [
       "<div>\n",
       "<style scoped>\n",
       "    .dataframe tbody tr th:only-of-type {\n",
       "        vertical-align: middle;\n",
       "    }\n",
       "\n",
       "    .dataframe tbody tr th {\n",
       "        vertical-align: top;\n",
       "    }\n",
       "\n",
       "    .dataframe thead th {\n",
       "        text-align: right;\n",
       "    }\n",
       "</style>\n",
       "<table border=\"1\" class=\"dataframe\">\n",
       "  <thead>\n",
       "    <tr style=\"text-align: right;\">\n",
       "      <th></th>\n",
       "      <th>job0</th>\n",
       "      <th>job1</th>\n",
       "      <th>job2</th>\n",
       "      <th>job3</th>\n",
       "      <th>job4</th>\n",
       "      <th>job5</th>\n",
       "      <th>job6</th>\n",
       "      <th>job7</th>\n",
       "      <th>job8</th>\n",
       "      <th>job9</th>\n",
       "      <th>...</th>\n",
       "      <th>job35</th>\n",
       "      <th>job36</th>\n",
       "      <th>job37</th>\n",
       "      <th>job38</th>\n",
       "      <th>job39</th>\n",
       "      <th>job40</th>\n",
       "      <th>job41</th>\n",
       "      <th>job42</th>\n",
       "      <th>job43</th>\n",
       "      <th>job44</th>\n",
       "    </tr>\n",
       "  </thead>\n",
       "  <tbody>\n",
       "    <tr>\n",
       "      <th>0</th>\n",
       "      <td>13</td>\n",
       "      <td>12</td>\n",
       "      <td>30</td>\n",
       "      <td>23</td>\n",
       "      <td>14</td>\n",
       "      <td>17</td>\n",
       "      <td>44</td>\n",
       "      <td>20</td>\n",
       "      <td>42</td>\n",
       "      <td>16</td>\n",
       "      <td>...</td>\n",
       "      <td>25</td>\n",
       "      <td>5</td>\n",
       "      <td>0</td>\n",
       "      <td>11</td>\n",
       "      <td>37</td>\n",
       "      <td>10</td>\n",
       "      <td>21</td>\n",
       "      <td>18</td>\n",
       "      <td>41</td>\n",
       "      <td>39</td>\n",
       "    </tr>\n",
       "    <tr>\n",
       "      <th>1</th>\n",
       "      <td>44</td>\n",
       "      <td>20</td>\n",
       "      <td>42</td>\n",
       "      <td>16</td>\n",
       "      <td>29</td>\n",
       "      <td>38</td>\n",
       "      <td>19</td>\n",
       "      <td>26</td>\n",
       "      <td>4</td>\n",
       "      <td>27</td>\n",
       "      <td>...</td>\n",
       "      <td>28</td>\n",
       "      <td>37</td>\n",
       "      <td>10</td>\n",
       "      <td>21</td>\n",
       "      <td>32</td>\n",
       "      <td>39</td>\n",
       "      <td>8</td>\n",
       "      <td>23</td>\n",
       "      <td>14</td>\n",
       "      <td>17</td>\n",
       "    </tr>\n",
       "    <tr>\n",
       "      <th>2</th>\n",
       "      <td>17</td>\n",
       "      <td>44</td>\n",
       "      <td>20</td>\n",
       "      <td>42</td>\n",
       "      <td>16</td>\n",
       "      <td>38</td>\n",
       "      <td>19</td>\n",
       "      <td>26</td>\n",
       "      <td>4</td>\n",
       "      <td>27</td>\n",
       "      <td>...</td>\n",
       "      <td>25</td>\n",
       "      <td>5</td>\n",
       "      <td>0</td>\n",
       "      <td>11</td>\n",
       "      <td>37</td>\n",
       "      <td>10</td>\n",
       "      <td>39</td>\n",
       "      <td>13</td>\n",
       "      <td>23</td>\n",
       "      <td>14</td>\n",
       "    </tr>\n",
       "  </tbody>\n",
       "</table>\n",
       "<p>3 rows × 45 columns</p>\n",
       "</div>"
      ],
      "text/plain": [
       "   job0  job1  job2  job3  job4  job5  job6  job7  job8  job9  ...  job35  \\\n",
       "0    13    12    30    23    14    17    44    20    42    16  ...     25   \n",
       "1    44    20    42    16    29    38    19    26     4    27  ...     28   \n",
       "2    17    44    20    42    16    38    19    26     4    27  ...     25   \n",
       "\n",
       "   job36  job37  job38  job39  job40  job41  job42  job43  job44  \n",
       "0      5      0     11     37     10     21     18     41     39  \n",
       "1     37     10     21     32     39      8     23     14     17  \n",
       "2      5      0     11     37     10     39     13     23     14  \n",
       "\n",
       "[3 rows x 45 columns]"
      ]
     },
     "execution_count": 36,
     "metadata": {},
     "output_type": "execute_result"
    }
   ],
   "source": [
    "data2.iloc[:, 0:45]"
   ]
  },
  {
   "cell_type": "code",
   "execution_count": 46,
   "metadata": {},
   "outputs": [
    {
     "data": {
      "text/plain": [
       "<AxesSubplot:>"
      ]
     },
     "execution_count": 46,
     "metadata": {},
     "output_type": "execute_result"
    },
    {
     "data": {
      "image/png": "[encoded data removed]",
      "text/plain": [
       "<Figure size 432x288 with 1 Axes>"
      ]
     },
     "metadata": {
      "needs_background": "light"
     },
     "output_type": "display_data"
    }
   ],
   "source": [
    "pd.plotting.parallel_coordinates(data2.iloc[:,0:45], 'job44')"
   ]
  },
  {
   "cell_type": "code",
   "execution_count": null,
   "metadata": {},
   "outputs": [],
   "source": []
  }
 ],
 "metadata": {
  "kernelspec": {
   "display_name": "Python 3",
   "language": "python",
   "name": "python3"
  },
  "language_info": {
   "codemirror_mode": {
    "name": "ipython",
    "version": 3
   },
   "file_extension": ".py",
   "mimetype": "text/x-python",
   "name": "python",
   "nbconvert_exporter": "python",
   "pygments_lexer": "ipython3",
   "version": "3.8.5"
  }
 },
 "nbformat": 4,
 "nbformat_minor": 4
}
